{
  "nbformat": 4,
  "nbformat_minor": 0,
  "metadata": {
    "colab": {
      "provenance": [],
      "authorship_tag": "ABX9TyMfiBN22l8E9ftQirBHjbVk",
      "include_colab_link": true
    },
    "kernelspec": {
      "name": "python3",
      "display_name": "Python 3"
    },
    "language_info": {
      "name": "python"
    }
  },
  "cells": [
    {
      "cell_type": "markdown",
      "metadata": {
        "id": "view-in-github",
        "colab_type": "text"
      },
      "source": [
        "<a href=\"https://colab.research.google.com/github/jeonhyeonjoon1/BP_05_Ch10/blob/main/BP_05_EX_Ch10.ipynb\" target=\"_parent\"><img src=\"https://colab.research.google.com/assets/colab-badge.svg\" alt=\"Open In Colab\"/></a>"
      ]
    },
    {
      "cell_type": "code",
      "source": [
        "from tkinter import * #tkinter를 불러옴\n",
        "\n",
        "tcl = Tk()      #Tk기본명령어를 변수에 저장\n",
        "\n",
        "program = Label(tcl, text=\"간단한 GUI 프로그램!\") #Lable명령어로 텍스트를 표시,변수에 저장\n",
        "program.pack()  #pack명령어로 화면에 보이게 함\n",
        "\n",
        "firstBtn = Button(tcl, text=\"환영합니다.\") #버튼 생성 명령어를 만든후 변수에 저장\n",
        "lastBtn  = Button(tcl, text=\"종료\")  #버튼 생성 명령어를 만든후 변수에 저장\n",
        "\n",
        "firstBtn.pack() #버튼을 보이게 함\n",
        "lastBtn.pack()  #버튼을 보이게 함\n",
        "\n",
        "tcl.mainloop() #mainloop를 사용해 반복 "
      ],
      "metadata": {
        "id": "T2eL2thXVxVU"
      },
      "execution_count": null,
      "outputs": []
    },
    {
      "cell_type": "code",
      "source": [
        "from tkinter import *\n",
        "\n",
        "def plus():\n",
        "    global total\n",
        "    total += int(e.get())\n",
        "    display()\n",
        "\n",
        "def minus():\n",
        "    global total\n",
        "    total -= int(e.get())\n",
        "    display()\n",
        "\n",
        "def reset():\n",
        "    global total\n",
        "    total = 100\n",
        "    display()\n",
        "\n",
        "def display():\n",
        "    global secondLabel\n",
        "    secondLabel.destroy() \n",
        "    secondLabel = Label(window,text=total)\n",
        "    secondLabel.grid(row=0,column=1) \n",
        "\n",
        "total = 100\n",
        "\n",
        "window = Tk()\n",
        "\n",
        "firstLabel  = Label(window, text=\"현재 합계: \")\n",
        "secondLabel = Label(window, text=total)\n",
        "\n",
        "firstLabel.grid(row=0,column=0) \n",
        "secondLabel.grid(row=0, column=1)\n",
        "\n",
        "e = Entry(window) \n",
        "e.grid(row=1,column=0, columnspan=3) \n",
        "\n",
        "plusBtn  = Button(window, text=\"더하기(+)\", command=plus) \n",
        "minusBtn = Button(window, text=\"빼기(-)\", command=minus) \n",
        "resetBtn = Button(window, text=\"초기화\", command=reset)\n",
        "\n",
        "plusBtn.grid(row=2, column=0)\n",
        "minusBtn.grid(row=2, column=1)\n",
        "resetBtn.grid(row=2, column=2)\n",
        "\n",
        "window.mainloop()"
      ],
      "metadata": {
        "id": "ZKkNc1RFYy0I"
      },
      "execution_count": null,
      "outputs": []
    }
  ]
}
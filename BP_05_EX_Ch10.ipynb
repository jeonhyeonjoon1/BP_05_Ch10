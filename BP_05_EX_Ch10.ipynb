{
  "nbformat": 4,
  "nbformat_minor": 0,
  "metadata": {
    "colab": {
      "provenance": [],
      "authorship_tag": "ABX9TyMYlLXrZB+baQGg8S6Gu2rt",
      "include_colab_link": true
    },
    "kernelspec": {
      "name": "python3",
      "display_name": "Python 3"
    },
    "language_info": {
      "name": "python"
    }
  },
  "cells": [
    {
      "cell_type": "markdown",
      "metadata": {
        "id": "view-in-github",
        "colab_type": "text"
      },
      "source": [
        "<a href=\"https://colab.research.google.com/github/jeonhyeonjoon1/BP_05_Ch10/blob/main/BP_05_EX_Ch10.ipynb\" target=\"_parent\"><img src=\"https://colab.research.google.com/assets/colab-badge.svg\" alt=\"Open In Colab\"/></a>"
      ]
    },
    {
      "cell_type": "code",
      "source": [
        "from tkinter import * #tkinter를 불러옴\n",
        "\n",
        "tk = Tk()      #Tk기본명령어를 변수에 저장\n",
        "\n",
        "program = Label(tk, text=\"간단한 GUI 프로그램!\") #Lable명령어로 텍스트를 표시,변수에 저장\n",
        "program.pack()  #pack명령어로 화면에 보이게 함\n",
        "\n",
        "firstBtn = Button(tk, text=\"환영합니다.\") #버튼 생성 명령어를 만든후 변수에 저장\n",
        "lastBtn  = Button(tk, text=\"종료\")  #버튼 생성 명령어를 만든후 변수에 저장\n",
        "\n",
        "firstBtn.pack() #버튼을 보이게 함\n",
        "lastBtn.pack()  #버튼을 보이게 함\n",
        "\n",
        "tk.mainloop() #mainloop를 사용해 반복 "
      ],
      "metadata": {
        "id": "T2eL2thXVxVU"
      },
      "execution_count": null,
      "outputs": []
    },
    {
      "cell_type": "code",
      "source": [
        "from tkinter import *      #tkinker를 불러옴\n",
        "\n",
        "def plus():\n",
        "    global total\n",
        "    total += int(e.get())\n",
        "    display()\n",
        "\n",
        "def minus():\n",
        "    global total\n",
        "    total -= int(e.get())\n",
        "    display()\n",
        "\n",
        "def reset():\n",
        "    global total\n",
        "    total = 100\n",
        "    display()\n",
        "\n",
        "def display():\n",
        "    global secondLabel\n",
        "    secondLabel.destroy() \n",
        "    secondLabel = Label(window,text=total)\n",
        "    secondLabel.grid(row=0,column=1) \n",
        "\n",
        "total = 100           #초기 합계를 100으로 설정 후 변수에 저장\n",
        "\n",
        "window = Tk()         #Tk기본명령어를 변수에 저장\n",
        "\n",
        "firstLabel  = Label(window, text=\"현재 합계: \")\n",
        "secondLabel = Label(window, text=total)\n",
        "\n",
        "firstLabel.grid(row=0,column=0) \n",
        "secondLabel.grid(row=0, column=1)\n",
        "\n",
        "e = Entry(window) \n",
        "e.grid(row=1,column=0, columnspan=3) \n",
        "\n",
        "plusBtn  = Button(window, text=\"더하기(+)\", command=plus) \n",
        "minusBtn = Button(window, text=\"빼기(-)\", command=minus) \n",
        "resetBtn = Button(window, text=\"초기화\", command=reset)\n",
        "\n",
        "plusBtn.grid(row=2, column=0)\n",
        "minusBtn.grid(row=2, column=1)\n",
        "resetBtn.grid(row=2, column=2)\n",
        "\n",
        "window.mainloop()"
      ],
      "metadata": {
        "id": "ZKkNc1RFYy0I"
      },
      "execution_count": null,
      "outputs": []
    },
    {
      "cell_type": "code",
      "source": [
        "from tkinter import * #tkinter를 불러옴\n",
        "import random         #랜덤함수를 불러옴\n",
        "\n",
        "tk = Tk()        #Tk기본 명령어를 변수에 저장\n",
        "num = 0          #숫자변수에 0을 저장\n",
        "betNum = random.randint(1,100)   #1에서 100중 하나의 값을 랜덤으로 골라 변수에 저장\n",
        "\n",
        "def run():\n",
        "    global num\n",
        "    global betNum\n",
        "\n",
        "    num = int(e.get())\n",
        "    if num < betNum:\n",
        "        firstLabel['text'] = \"너무 낮아요!!\"\n",
        "    elif num > betNum:\n",
        "        firstLabel['text'] = \"너무 높아요!!\"\n",
        "    else:\n",
        "        firstLabel['text'] = \"정답입니다!\"\n",
        "\n",
        "def reset():\n",
        "    global num\n",
        "    global betNum\n",
        "\n",
        "    e.delete(0,END)\n",
        "    secondLabel.config(text=\"\")\n",
        "    betNum = random.randint(1,100)\n",
        "    num = 0\n",
        "\n",
        "firstLabel = Label(window, text=\"1에서 100사이의 수를 입력하세요.\")\n",
        "secondLabel = Label(window,)\n",
        "thridLabel = Label(window, )\n",
        "\n",
        "firstLabel.grid(row=1, column=0, columnspan=2)\n",
        "secondLabel.grid(row=2, column=0, columnspan=2)\n",
        "thridLabel.grid(row=4, column=0, columnspan=2)\n",
        "\n",
        "e = Entry(window)\n",
        "e.grid(row=3, column=0, columnspan=2)\n",
        "\n",
        "firstBtn = Button(window, text=\"숫자를 입력\", command = run)\n",
        "secondBtn= Button(window, text=\"게임을 다시 실행\", command = reset)\n",
        "\n",
        "firstBtn.grid(row=5, column=0)\n",
        "secondBtn.grid(row=5, column=1)\n",
        "\n",
        "window.mainloop()"
      ],
      "metadata": {
        "id": "5yDNpfGYlu9B"
      },
      "execution_count": null,
      "outputs": []
    }
  ]
}
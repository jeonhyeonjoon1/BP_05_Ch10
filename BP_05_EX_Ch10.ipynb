{
  "nbformat": 4,
  "nbformat_minor": 0,
  "metadata": {
    "colab": {
      "provenance": [],
      "authorship_tag": "ABX9TyOJBhw+r0Z2EyaD9VFeQNQA",
      "include_colab_link": true
    },
    "kernelspec": {
      "name": "python3",
      "display_name": "Python 3"
    },
    "language_info": {
      "name": "python"
    }
  },
  "cells": [
    {
      "cell_type": "markdown",
      "metadata": {
        "id": "view-in-github",
        "colab_type": "text"
      },
      "source": [
        "<a href=\"https://colab.research.google.com/github/jeonhyeonjoon1/BP_05_Ch10/blob/main/BP_05_EX_Ch10.ipynb\" target=\"_parent\"><img src=\"https://colab.research.google.com/assets/colab-badge.svg\" alt=\"Open In Colab\"/></a>"
      ]
    },
    {
      "cell_type": "code",
      "source": [
        "from tkinter import * #tkinter를 불러옴\n",
        "\n",
        "tk = Tk()      #Tk기본명령어를 변수에 저장\n",
        "\n",
        "program = Label(tk, text=\"간단한 GUI 프로그램!\") #Lable명령어로 텍스트를 표시,변수에 저장\n",
        "program.pack()  #pack명령어로 화면에 보이게 함\n",
        "\n",
        "firstBtn = Button(tk, text=\"환영합니다.\") #버튼 생성 명령어를 만든후 변수에 저장\n",
        "lastBtn  = Button(tk, text=\"종료\")  #버튼 생성 명령어를 만든후 변수에 저장\n",
        "\n",
        "firstBtn.pack() #버튼을 보이게 함\n",
        "lastBtn.pack()  #버튼을 보이게 함\n",
        "\n",
        "tk.mainloop() #mainloop를 사용해 반복 "
      ],
      "metadata": {
        "id": "T2eL2thXVxVU"
      },
      "execution_count": null,
      "outputs": []
    },
    {
      "cell_type": "code",
      "source": [
        "from tkinter import *      #tkinker를 불러옴\n",
        "\n",
        "def plus():                #함수 plus를 선언\n",
        "    global total\n",
        "    total += int(e.get())  #int형으로 e를 바꿔줌\n",
        "    display()              #화면에 보이게 함\n",
        "\n",
        "def minus():               #함수 minus를 선언\n",
        "    global total\n",
        "    total -= int(e.get())  #int형으로 e를 바꿔줌\n",
        "    display()              #화면에 보이게 함\n",
        "\n",
        "def reset():               #함수 reset를 선언\n",
        "    global total\n",
        "    total = 100            #변수에 100을 저장\n",
        "    display()              #화면에 보이게 함\n",
        "\n",
        "def display():             #함수를 선언\n",
        "    global secondLabel\n",
        "    secondLabel.destroy()  #해당 값을 삭제함\n",
        "    secondLabel = Label(window,text=total) #해당 값을 생성\n",
        "    secondLabel.grid(row=0,column=1)     #만든 값을 0행 1열의 위치로 설정\n",
        "\n",
        "total = 100           #초기 합계를 100으로 설정 후 변수에 저장\n",
        "\n",
        "window = Tk()         #Tk기본명령어를 변수에 저장\n",
        "\n",
        "firstLabel  = Label(window, text=\"현재 합계: \") #변수설정\n",
        "secondLabel = Label(window, text=total)         #변수설정\n",
        "\n",
        "firstLabel.grid(row=0,column=0)       #0행 0열에 배치\n",
        "secondLabel.grid(row=0, column=1)     #0행 1열에 배치\n",
        "\n",
        "e = Entry(window)                     #입력창 생성\n",
        "e.grid(row=1,column=0, columnspan=3)  #1행 0열에 배치\n",
        "\n",
        "plusBtn  = Button(window, text=\"더하기(+)\", command=plus) #버튼을 생성 후 plus함수를 넣음\n",
        "minusBtn = Button(window, text=\"빼기(-)\", command=minus)  #버튼을 생성 후 minus함수를 넣음\n",
        "resetBtn = Button(window, text=\"초기화\", command=reset)   #버튼을 생성 후 reset함수를 넣음\n",
        "\n",
        "plusBtn.grid(row=2, column=0)    #버튼의 위치 설정\n",
        "minusBtn.grid(row=2, column=1)\n",
        "resetBtn.grid(row=2, column=2)\n",
        "\n",
        "window.mainloop()                #반복"
      ],
      "metadata": {
        "id": "ZKkNc1RFYy0I"
      },
      "execution_count": null,
      "outputs": []
    },
    {
      "cell_type": "code",
      "source": [
        "from tkinter import * #tkinter를 불러옴\n",
        "import random         #랜덤함수를 불러옴\n",
        "\n",
        "tk = Tk()        #Tk기본 명령어를 변수에 저장\n",
        "num = 0          #숫자변수에 0을 저장\n",
        "betNum = random.randint(1,100)   #1에서 100중 하나의 값을 랜덤으로 골라 변수에 저장\n",
        "\n",
        "def run():\n",
        "    global num\n",
        "    global betNum\n",
        "\n",
        "    num = int(e.get())\n",
        "    if num < betNum:\n",
        "        firstLabel['text'] = \"너무 낮아요!!\"\n",
        "    elif num > betNum:\n",
        "        firstLabel['text'] = \"너무 높아요!!\"\n",
        "    else:\n",
        "        firstLabel['text'] = \"정답입니다!\"\n",
        "\n",
        "def reset():\n",
        "    global num\n",
        "    global betNum\n",
        "\n",
        "    e.delete(0,END)\n",
        "    secondLabel.config(text=\"\")\n",
        "    betNum = random.randint(1,100)\n",
        "    num = 0\n",
        "\n",
        "firstLabel = Label(window, text=\"1에서 100사이의 수를 입력하세요.\")\n",
        "secondLabel = Label(window,)\n",
        "thridLabel = Label(window, )\n",
        "\n",
        "firstLabel.grid(row=1, column=0, columnspan=2)\n",
        "secondLabel.grid(row=2, column=0, columnspan=2)\n",
        "thridLabel.grid(row=4, column=0, columnspan=2)\n",
        "\n",
        "e = Entry(window)\n",
        "e.grid(row=3, column=0, columnspan=2)\n",
        "\n",
        "firstBtn = Button(window, text=\"숫자를 입력\", command = run)\n",
        "secondBtn= Button(window, text=\"게임을 다시 실행\", command = reset)\n",
        "\n",
        "firstBtn.grid(row=5, column=0)\n",
        "secondBtn.grid(row=5, column=1)\n",
        "\n",
        "window.mainloop()"
      ],
      "metadata": {
        "id": "5yDNpfGYlu9B"
      },
      "execution_count": null,
      "outputs": []
    }
  ]
}
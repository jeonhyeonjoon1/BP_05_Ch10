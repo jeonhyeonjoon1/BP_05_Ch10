{
  "nbformat": 4,
  "nbformat_minor": 0,
  "metadata": {
    "colab": {
      "provenance": [],
      "authorship_tag": "ABX9TyNX5xFQYwwpf4oLItY1KzYb",
      "include_colab_link": true
    },
    "kernelspec": {
      "name": "python3",
      "display_name": "Python 3"
    },
    "language_info": {
      "name": "python"
    }
  },
  "cells": [
    {
      "cell_type": "markdown",
      "metadata": {
        "id": "view-in-github",
        "colab_type": "text"
      },
      "source": [
        "<a href=\"https://colab.research.google.com/github/jeonhyeonjoon1/BP_05_Ch10/blob/main/BP_05_EX_Ch10.ipynb\" target=\"_parent\"><img src=\"https://colab.research.google.com/assets/colab-badge.svg\" alt=\"Open In Colab\"/></a>"
      ]
    },
    {
      "cell_type": "code",
      "source": [
        "from tkinter import * #tkinter를 불러옴\n",
        "\n",
        "window = Tk()      #Tk기본명령어를 변수에 저장\n",
        "\n",
        "program = Label(window, text=\"간단한 GUI 프로그램!\") #Lable\n",
        "program.pack()\n",
        "\n",
        "firstBtn = Button(window, text=\"환영합니다.\")\n",
        "lastBtn  = Button(window, text=\"종료\")\n",
        "\n",
        "firstBtn.pack()\n",
        "lastBtn.pack()\n",
        "\n",
        "window.mainloop()"
      ],
      "metadata": {
        "id": "T2eL2thXVxVU"
      },
      "execution_count": null,
      "outputs": []
    }
  ]
}